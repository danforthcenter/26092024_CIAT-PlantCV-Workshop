{
 "cells": [
  {
   "cell_type": "markdown",
   "id": "4dd697c1-f6de-445a-9b76-a7e4d1981f62",
   "metadata": {},
   "source": [
    "# Naive Bayes (supervised machine learning)"
   ]
  },
  {
   "cell_type": "code",
   "execution_count": null,
   "id": "11feea7a-2078-46d7-944f-9737ac947813",
   "metadata": {},
   "outputs": [],
   "source": [
    "# Import libraries\n",
    "%matplotlib widget\n",
    "from plantcv import plantcv as pcv \n",
    "from plantcv import utils\n",
    "from plantcv import learn\n",
    "import numpy as np\n",
    "from plantcv.parallel import WorkflowInputs"
   ]
  },
  {
   "cell_type": "code",
   "execution_count": null,
   "id": "5ee6f42c-2d93-4539-b56b-db81251d9676",
   "metadata": {},
   "outputs": [],
   "source": [
    "pcv.__version__"
   ]
  },
  {
   "cell_type": "markdown",
   "id": "ef1dd6ba-f7d8-4b9a-8d15-029163c61d11",
   "metadata": {},
   "source": [
    "To collect training data, download the program [Fiji](https://imagej.net/software/fiji/downloads#installation). We will use the tool \"Pixel Inspector\" to collect color values.\n",
    "\n",
    "Collect pixel data from the PNG files found in the `imgs` folder: `wheat_rust1.png` & `wheat-rust2.png`."
   ]
  },
  {
   "cell_type": "code",
   "execution_count": null,
   "id": "69f9b3c8-5f11-4d02-8e03-a6510eec23e8",
   "metadata": {},
   "outputs": [],
   "source": [
    "# Input/output options\n",
    "args = WorkflowInputs(\n",
    "    #images=[\"img/color_image.jpg\"],    \n",
    "    images=[\"./imgs/wheat_rust1.png\"],   \n",
    "    names=\"image1\",\n",
    "    result=\"wheat-rust.csv\",\n",
    "    outdir=\".\",\n",
    "    writeimg=True,\n",
    "    debug=\"plot\")\n",
    "\n",
    "# Set debug to the global parameter \n",
    "pcv.params.debug = args.debug"
   ]
  },
  {
   "cell_type": "code",
   "execution_count": null,
   "id": "283003df-fe55-40ae-83f0-13d45c304224",
   "metadata": {},
   "outputs": [],
   "source": [
    "# Read image \n",
    "img, path, filename = pcv.readimage(filename=args.image1)"
   ]
  },
  {
   "cell_type": "markdown",
   "id": "c57cdb9a-fe33-4aeb-b69c-1dfd79f818ab",
   "metadata": {},
   "source": [
    "In the image we are interested in identifying pixels that belong to four different groups (or classes):\n",
    "\n",
    "`Plant`: the green parts of the wheat leaves\n",
    "\n",
    "`Pustule`: the red/orange wheat rust infection foci\n",
    "\n",
    "`Chlorosis`: the yellowing around each pustule\n",
    "\n",
    "`Background`: Everything that does not belong to one of the other three categories\n",
    "\n",
    "We will collect RGB values from the image by clicking on examples of each class and organizing the values in a file called `pixels_unformatted.txt` with this format:\n",
    "\n",
    "```\n",
    "#plant\n",
    "96,154,72\t95,153,72\t91,155,71\t91,160,70\t90,155,67\t92,152,66\t92,157,70\n",
    "54,104,39\t56,104,38\t59,106,41\t57,105,43\t54,104,40\t54,103,35\t56,101,39\t58,99,41\t59,99,41\n",
    "#background\n",
    "114,127,121\t117,135,125\t120,137,131\t132,145,138\t142,154,148\t151,166,158\t160,182,172\n",
    "115,125,121\t118,131,123\t122,132,135\t133,142,144\t141,151,152\t150,166,158\t159,179,172\n",
    "```"
   ]
  },
  {
   "cell_type": "markdown",
   "id": "7c2b916b-a2c2-4b58-b43d-3200e185101a",
   "metadata": {},
   "source": [
    "After you have created your table of RGB values, we need to reformat it for use in PlantCV using a command-line utility (but within the notebook)."
   ]
  },
  {
   "cell_type": "code",
   "execution_count": null,
   "id": "8d47ca8a-4d14-46dc-bc20-3aa68622cc28",
   "metadata": {},
   "outputs": [],
   "source": [
    "# We need to format our tab-delimited file containing our pixel values (pixels_unformatted.txt)\n",
    "# Hold Shift and press Tab to view the helper to see what input parameters are needed \n",
    "utils.tabulate_bayes_classes(input_file=\"pixels_unformatted.txt\", output_file=\"pixels_formatted.txt\")"
   ]
  },
  {
   "cell_type": "markdown",
   "id": "908f4186-6905-4906-9566-7fc2a12c7eaa",
   "metadata": {},
   "source": [
    "Now that we have reformatted our table, we can train our naive Bayes classifier. Since we have 4 categories (`leaf`, `pustule`, `chlorosis`, and `background`), we will use `learn.naive_bayes_multiclass` to train our model.\n",
    "For a more complete explanation on how naive Bayes classifier algorithms work, please visit this [Stacked Overflow comment](https://stackoverflow.com/a/20556654)."
   ]
  },
  {
   "cell_type": "code",
   "execution_count": null,
   "id": "e884c971-bbda-45b7-8e69-2b68b9da1b53",
   "metadata": {},
   "outputs": [],
   "source": [
    "learn.naive_bayes_multiclass(samples_file=\"pixels_formatted.txt\", outfile=\"wheat-rust-pdf.txt\")"
   ]
  },
  {
   "cell_type": "code",
   "execution_count": null,
   "id": "dfdd13d8-96a6-40af-bd7f-34f2b986c944",
   "metadata": {},
   "outputs": [],
   "source": [
    "# Use the output file from `naive_bayes_multiclass` to run the multiclass \n",
    "# naive bayes classification on the image. The function below will \n",
    "# print out 4 masks (plant, pustule, chlorosis, background)\n",
    "\n",
    "# Inputs: \n",
    "#   rgb_img - RGB image data \n",
    "#   pdf_file - Output file containing PDFs from `plantcv-train.py`\n",
    "mask = pcv.naive_bayes_classifier(rgb_img=img, pdf_file=\"wheat-rust-pdf.txt\")"
   ]
  },
  {
   "cell_type": "code",
   "execution_count": null,
   "id": "62a72b73-9928-4ee1-b2bd-8bb80c5831c6",
   "metadata": {},
   "outputs": [],
   "source": [
    "# We can apply each mask to the original image to more accurately \n",
    "# see what got masked\n",
    "\n",
    "pustule_img = pcv.apply_mask(mask=(mask['pustule']), img=img, mask_color='black')\n",
    "chlorosis_img = pcv.apply_mask(mask=(mask['chlorosis']), img=img, mask_color='black')\n",
    "plant_img = pcv.apply_mask(mask=(mask['plant']), img=img, mask_color='black')\n",
    "background_img = pcv.apply_mask(mask=(mask['background']), img=img, mask_color='black')"
   ]
  },
  {
   "cell_type": "code",
   "execution_count": null,
   "id": "066fcb56-2838-42aa-b463-e9941e7c50e7",
   "metadata": {},
   "outputs": [],
   "source": [
    "# Write image and mask with the same name to the path \n",
    "# specified (creates two folders within the path if they do not exist).\n",
    "\n",
    "plant_maskpath, plant_analysis_images = pcv.output_mask(img=img, mask=mask['plant'], \n",
    "                                                        filename='plant.png', mask_only=True)\n",
    "pustule_maskpath, pustule_analysis_images = pcv.output_mask(img=img, mask=mask['pustule'], \n",
    "                                                      filename='pustule.png', mask_only=True)\n",
    "chlorosis_maskpath, chlorosis_analysis_images = pcv.output_mask(img=img, mask=mask['chlorosis'], \n",
    "                                                      filename='chlorosis.png', mask_only=True)\n",
    "bkgrd_maskpath, bkgrd_analysis_images = pcv.output_mask(img=img, mask=mask['background'], \n",
    "                                                        filename='background.png', mask_only=True)"
   ]
  },
  {
   "cell_type": "code",
   "execution_count": null,
   "id": "730db667-9903-413f-81d5-9c4341aaae74",
   "metadata": {},
   "outputs": [],
   "source": [
    "# To see all of these masks together we can plot them with plant set to green,\n",
    "# chlorosis set to gold, and pustule set to red.\n",
    "\n",
    "classified_img = pcv.visualize.colorize_masks(masks=[mask['plant'],\n",
    "                                                     mask['pustule'], \n",
    "                                                     mask['chlorosis'],\n",
    "                                                     mask['background']],\n",
    "                                              colors=['dark green', 'red', 'gold', 'gray'])\n",
    "# Compare the merged masks with your original image\n",
    "pcv.plot_image(img=img)"
   ]
  },
  {
   "cell_type": "markdown",
   "id": "82faf8f2-0891-4334-9021-c41378eda2b8",
   "metadata": {},
   "source": [
    "How did you do?\n",
    "\n",
    "If you have pixels that are classified inappropriately, you need to revisit `pixels_unformatted.txt` and either add/remove pixels from the dataset. This is why naive Bayes is a machine learning algorithm that is developed through `supervised learning` (the model learns from the Agent)."
   ]
  },
  {
   "cell_type": "markdown",
   "id": "d8b24e38-497c-4e58-8a4f-47d88619f9b1",
   "metadata": {},
   "source": [
    "## Extracting information"
   ]
  },
  {
   "cell_type": "markdown",
   "id": "147d5958-524d-4296-8cdc-22f003977460",
   "metadata": {},
   "source": [
    "Now that we have successfully trained our algorithm, we can pull out the relevant information about our samples."
   ]
  },
  {
   "cell_type": "code",
   "execution_count": null,
   "id": "fa62c448-912a-4e72-88a4-11c18d2e6d2e",
   "metadata": {},
   "outputs": [],
   "source": [
    "# Calculate percent of the plant found to be diseased \n",
    "\n",
    "sick_plant = np.count_nonzero(mask['pustule']) + np.count_nonzero(mask['chlorosis'])\n",
    "healthy_plant = np.count_nonzero(mask['leaf'])\n",
    "percent_diseased = sick_plant / (sick_plant + healthy_plant)"
   ]
  },
  {
   "cell_type": "code",
   "execution_count": null,
   "id": "0d70e018-85f7-4196-a8de-1b5840483b59",
   "metadata": {},
   "outputs": [],
   "source": [
    "# Create a new measurement (gets saved to the outputs class) \n",
    "\n",
    "pcv.outputs.add_observation(sample='default', variable='percent_diseased', \n",
    "                            trait='percent of plant detected to be diseased',\n",
    "                            method='ratio of pixels', scale='percent', datatype=float,\n",
    "                            value=percent_diseased, label='percent')"
   ]
  },
  {
   "cell_type": "code",
   "execution_count": null,
   "id": "d7e691b6-e612-4331-a017-a276731d9647",
   "metadata": {
    "tags": []
   },
   "outputs": [],
   "source": [
    "# Data stored to the outputs class can be accessed using the variable name\n",
    "pcv.outputs.observations['default']['percent_diseased']['value']"
   ]
  },
  {
   "cell_type": "code",
   "execution_count": null,
   "id": "49963986-21cf-4ca9-bbd2-1973199415da",
   "metadata": {},
   "outputs": [],
   "source": [
    "# Calculate percent of the plant found to be healthy \n",
    "percent_healthy = healthy_plant / (sick_plant + healthy_plant)"
   ]
  },
  {
   "cell_type": "code",
   "execution_count": null,
   "id": "7eb2ee37-ca1d-4a3f-ad5d-499fb37ca25b",
   "metadata": {},
   "outputs": [],
   "source": [
    "# Create a new measurement (gets saved to the outputs class) \n",
    "\n",
    "pcv.outputs.add_observation(sample='default', variable='percent_healthy', \n",
    "                            trait='percent of plant detected to be healthy',\n",
    "                            method='ratio of pixels', scale='percent', datatype=float,\n",
    "                            value=percent_healthy, label='percent')"
   ]
  },
  {
   "cell_type": "code",
   "execution_count": null,
   "id": "0324be0b-0177-44bd-a6d6-192fbec49d77",
   "metadata": {
    "tags": []
   },
   "outputs": [],
   "source": [
    "# Data stored to the outputs class can be accessed using the variable name\n",
    "pcv.outputs.observations['default']['percent_healthy']['value']"
   ]
  },
  {
   "cell_type": "markdown",
   "id": "559be2ad-da6e-4e80-8e3e-588b3d007e95",
   "metadata": {},
   "source": [
    "If you look at the percentage values from `pcv.outputs.observations`, they should add up to 100%."
   ]
  },
  {
   "cell_type": "code",
   "execution_count": null,
   "id": "ada8da34-6f80-4951-8ed5-70a90fdad62e",
   "metadata": {
    "tags": []
   },
   "outputs": [],
   "source": [
    "# save_results\n",
    "pcv.outputs.save_results(filename=args.result)"
   ]
  },
  {
   "cell_type": "code",
   "execution_count": null,
   "id": "186a0257-2d53-4efe-a382-636790f215f4",
   "metadata": {},
   "outputs": [],
   "source": []
  }
 ],
 "metadata": {
  "kernelspec": {
   "display_name": "Python (PlantCV)",
   "language": "python",
   "name": "plantcv"
  },
  "language_info": {
   "codemirror_mode": {
    "name": "ipython",
    "version": 3
   },
   "file_extension": ".py",
   "mimetype": "text/x-python",
   "name": "python",
   "nbconvert_exporter": "python",
   "pygments_lexer": "ipython3",
   "version": "3.12.3"
  }
 },
 "nbformat": 4,
 "nbformat_minor": 5
}
