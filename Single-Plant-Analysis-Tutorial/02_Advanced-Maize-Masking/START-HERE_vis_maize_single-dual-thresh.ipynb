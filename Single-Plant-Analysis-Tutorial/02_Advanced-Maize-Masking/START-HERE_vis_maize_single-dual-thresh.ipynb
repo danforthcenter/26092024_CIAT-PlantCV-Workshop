{
 "cells": [
  {
   "cell_type": "markdown",
   "metadata": {
    "id": "0l_8xU-ykWRF"
   },
   "source": [
    "# Welcome to the Photobooth Side View, Single Plant Tutorial, with an example!\n",
    "\n",
    "Made by: Katie Murphy\n",
    "Updated: May 16, 2023"
   ]
  },
  {
   "cell_type": "markdown",
   "metadata": {},
   "source": [
    "In this tutorial, you will observe how to develop masks for object-of-interest that are not easily thresholded. This notebook is designed to be self-guided with exercises that will help you gain exposure to some of the other functions available in PlantCV. For reference, please visit [PlantCV's ReadtheDocs page](https://plantcv.readthedocs.io/en/stable) for more information."
   ]
  },
  {
   "cell_type": "markdown",
   "metadata": {},
   "source": [
    "## Loading Libraries"
   ]
  },
  {
   "cell_type": "markdown",
   "metadata": {
    "id": "G4gTkdSxkWRI"
   },
   "source": [
    "First, import the necessary package. If you get an error here, make sure your kernel (upper right) is set to PlantCV, and that you have PlantCV installed."
   ]
  },
  {
   "cell_type": "code",
   "execution_count": null,
   "metadata": {
    "id": "uoIT0ikWkWRJ"
   },
   "outputs": [],
   "source": [
    "%matplotlib widget\n",
    "from plantcv import plantcv as pcv\n",
    "from plantcv.parallel import WorkflowInputs"
   ]
  },
  {
   "cell_type": "markdown",
   "metadata": {
    "id": "2M5I0B6TkWRK"
   },
   "source": [
    "Next, import a sample image. Your images need to be on the server. Remember, always keep your raw images separate from your newly processed images! You will need to change the path to your image, and also if you want specific output folders and directories."
   ]
  },
  {
   "cell_type": "code",
   "execution_count": null,
   "metadata": {
    "id": "EYOWT10LkWRK"
   },
   "outputs": [],
   "source": [
    "# Input/output options\n",
    "args = WorkflowInputs(\n",
    "    images=[],\n",
    "    names=,\n",
    "    result=,\n",
    "    outdir=\".\",\n",
    "    writeimg=False,\n",
    "    debug=\"plot\"\n",
    "    )"
   ]
  },
  {
   "cell_type": "code",
   "execution_count": null,
   "metadata": {
    "id": "2BXuCCa3kWRL"
   },
   "outputs": [],
   "source": [
    "# Set debug to the global parameter\n",
    "pcv.params.debug = args.debug\n",
    "# Change display settings\n",
    "pcv.params.dpi = 100\n",
    "pcv.params.text_size = 20\n",
    "pcv.params.text_thickness = 20"
   ]
  },
  {
   "cell_type": "markdown",
   "metadata": {},
   "source": [
    "## Read Sample Image into PlantCV"
   ]
  },
  {
   "cell_type": "code",
   "execution_count": null,
   "metadata": {
    "colab": {
     "referenced_widgets": [
      "82e6ed193f2b41e3b0bee73c2f0b765b"
     ]
    },
    "id": "9VEfJvkAkWRL",
    "outputId": "b71be99e-70ec-4c11-e15f-bc431386d341"
   },
   "outputs": [],
   "source": [
    "# Read in your image, which is based on the path you put above\n",
    "\n",
    "# Inputs:\n",
    "#   filename - Image file to be read in\n",
    "#   mode - Return mode of image; either 'native' (default), 'rgb', 'gray', or 'csv'\n",
    "img, path, filename = pcv.readimage(filename=)"
   ]
  },
  {
   "cell_type": "markdown",
   "metadata": {},
   "source": [
    "## Image Pre-Processing: Cropping and Rotating Images"
   ]
  },
  {
   "cell_type": "markdown",
   "metadata": {},
   "source": [
    "Take a look at image output produced. With the current layout of the image, how accurate do you think PlantCV's analysis will be given all the extra \"noise\" in the image (i.e., plants against the wall, empty buckets in the corner, white walls, airducts, and concrete floor). \n",
    "\n",
    "Since there is so many extra objets in this image, we will need to [crop](https://plantcv.readthedocs.io/en/stable/crop/) our image so that we can focus more closely on our object-of-interest (maize on the black backdrop). "
   ]
  },
  {
   "cell_type": "code",
   "execution_count": null,
   "metadata": {
    "colab": {
     "referenced_widgets": [
      "ed915dee62354872bf2f64c98829508b"
     ]
    },
    "id": "3hpyK4kXkWRM",
    "outputId": "f937e526-8c7e-4ec4-ba5c-84eef2ca5d7c"
   },
   "outputs": [],
   "source": [
    "# To crop your object-of-interest, hover your cursor over the image. \n",
    "# You will need to record the x- & y-coordinates for the upper-left corner where you will begin cropping your image. \n",
    "# Then record the coordinates of the lower-right corner of where your cropping will end.\n",
    "# Subtract the coordinate values of the lower-right corner from the upper-left corner to \n",
    "# obtain the height (h) and width (w).\n",
    "crop_img = pcv.crop()"
   ]
  },
  {
   "cell_type": "code",
   "execution_count": null,
   "metadata": {
    "colab": {
     "referenced_widgets": [
      "b5166b7a495a42648dd6e795e668b5e5"
     ]
    },
    "id": "Ujb0PBMkkWRM",
    "outputId": "93a04591-2863-4049-a896-82785a8ae8d1"
   },
   "outputs": [],
   "source": [
    "# Sometimes it might be necessary to rotate your image if your camera was not directly facing the sample\n",
    "# and on a flat surface.\n",
    "# Our image was captured on a flat surface with our camera directly facing our plant.\n",
    "# So, we can leave the rotation parameter as 0.\n",
    "rotate_img = pcv.transform.rotate()"
   ]
  },
  {
   "cell_type": "markdown",
   "metadata": {},
   "source": [
    "## Detecting and Calibrating Colors with Color Cards/Color Checkers"
   ]
  },
  {
   "cell_type": "markdown",
   "metadata": {},
   "source": [
    "Color Cards (or color checkers) are useful reference tools used by imaging experts to calibrate the colors in their images to ensure the accuracy and consistency of color reproduction in their images. The device usually consists of 24 color swatches (or patches) that are designed to mimic a range of colors commonly represented in nature (i.e., skin color, water, leaves, flowers, etc.) in addition to white, gray, and black to balance different lighting conditions. Due to the standardized layout of color cards, they can also be used to calibrate the sizes of other objects in your image so it is imperative that the color card is inline with your object-of-interest. For additional information on how to use a color card, visit the following [article](https://petapixel.com/how-to-use-color-checker-photography/) by Kyle Agee."
   ]
  },
  {
   "cell_type": "markdown",
   "metadata": {},
   "source": [
    "In this first step, we will [detect](https://plantcv.readthedocs.io/en/stable/transform_detect_color_card/) our color card. PlantCV can detect color cards automatically using the Transform subpackage, all we need to do is load our image into the function and PlantCV will do the rest. If you know the dimensions of your color card, then you can use it as a scaling factor to determine the measurements of your object-of-interest."
   ]
  },
  {
   "cell_type": "code",
   "execution_count": null,
   "metadata": {
    "id": "XW4LtZYIkWRN"
   },
   "outputs": [],
   "source": [
    "# Load your rotated or cropped image into the rgb_img argument to detect the color card.\n",
    "cc_mask = pcv.transform.detect_color_card()\n",
    "\n",
    "# We will also print the average chip size and store the values in outputs.observations.\n",
    "print(pcv.outputs.observations['default']['median_color_chip_size']['value'])"
   ]
  },
  {
   "cell_type": "code",
   "execution_count": null,
   "metadata": {
    "id": "sqmjQ_HvkWRN"
   },
   "outputs": [],
   "source": [
    "# Next, we make a color card matrix. You will not see an output for this step.\n",
    "\n",
    "headers, card_matrix = pcv.transform.get_color_matrix()"
   ]
  },
  {
   "cell_type": "code",
   "execution_count": null,
   "metadata": {
    "id": "l2obStF5kWRO"
   },
   "outputs": [],
   "source": [
    "# Define the standard color card matrix, we know what the colors of those chips should be in a \"perfect\" image, so we will correct to those values\n",
    "# Look at where your white chip is in the image to determine which position your card is in (pos)\n",
    "# When using detect_color_card, you will always set pos=3.\n",
    "\n",
    "#pos     = reference value indicating orientation of the color card. The reference\n",
    "       #         is based on the position of the white chip:\n",
    "        #        pos = 0: bottom-left corner\n",
    "        #        pos = 1: bottom-right corner\n",
    "        #        pos = 2: top-right corner\n",
    "        #        pos = 3: top-left corner\n",
    "\n",
    "std_color_matrix = pcv.transform.std_color_matrix ()"
   ]
  },
  {
   "cell_type": "code",
   "execution_count": null,
   "metadata": {
    "colab": {
     "referenced_widgets": [
      "92231a1601064c09837e97ab5eadc97f",
      "bca99d559bfa4932939547aebd7eda73"
     ]
    },
    "id": "w0n6YO3DkWRO",
    "outputId": "8624acf1-b070-42b7-bebf-efe583a296f2"
   },
   "outputs": [],
   "source": [
    "#Color correct your image to the standard values.\n",
    "#look at the image - does the color look good? \n",
    "# If it looks crazy, you probably don't have the card found well and need to go back to \n",
    "# define the start and spacing for the card.\n",
    "\n",
    "img_cc = pcv.transform.affine_color_correction()\n",
    "pcv.plot_image(img_cc)"
   ]
  },
  {
   "cell_type": "markdown",
   "metadata": {},
   "source": [
    "## Creating a Mask of your Object-of-Interest"
   ]
  },
  {
   "cell_type": "code",
   "execution_count": null,
   "metadata": {
    "colab": {
     "referenced_widgets": [
      "f5f6d7444d094a75bd0ae9b357a5cbfa"
     ]
    },
    "id": "WLCOs48IkWRO",
    "outputId": "97843e9c-8279-42a4-859b-8c230adf185d"
   },
   "outputs": [],
   "source": [
    "# Update params related to plotting so we can see better\n",
    "pcv.params.text_size=50\n",
    "pcv.params.text_thickness=15\n",
    "\n",
    "\n",
    "#Look at the colorspace - which of these looks the best for masking? Which channel makes the plant look most distinct?\n",
    "colorspace_img = pcv.visualize.colorspaces()"
   ]
  },
  {
   "cell_type": "code",
   "execution_count": null,
   "metadata": {
    "colab": {
     "referenced_widgets": [
      "f02909bb8a714917929b5f8e369787b0"
     ]
    },
    "id": "76yMN-COkWRP",
    "outputId": "42b047dc-58d0-4b0a-f335-d0ca106758af"
   },
   "outputs": [],
   "source": [
    "# Look at the colorspaces above and determine which spaces provide you with the greatest contrast of plant vs. background.\n",
    "# We will use **pcv.visualize.pixel_scatter_plot** to plot the pixel intensities found in those colorspaces on the x- & y- axes. \n",
    "# The horizontal and vertical coordinates will represent the pixel intensities from the colorspaces you choose to plot,\n",
    "# where each dot is given by the original RGB color of the pixel.\n",
    "\n",
    "# For this image,\n",
    "color_scatter = pcv.visualize.pixel_scatter_plot()\n",
    "\n"
   ]
  },
  {
   "cell_type": "code",
   "execution_count": null,
   "metadata": {
    "colab": {
     "referenced_widgets": [
      "22f7808538844fd09b6bef158ce8f8e7"
     ]
    },
    "id": "EsmkGFCEkWRP",
    "outputId": "b92dcd2f-1c83-4617-e55b-4d7697416237"
   },
   "outputs": [],
   "source": [
    "# Threshold your image by choosing points in the plot that will separate the green plant pixels from everything else (hover your mouse over the image).\n",
    "# It will draw a line between your two points and take every pixel \"above\" (if set to true). Do you get all of the plant?\n",
    "\n",
    "thresh1 = pcv.threshold.dual_channels()"
   ]
  },
  {
   "cell_type": "code",
   "execution_count": null,
   "metadata": {
    "colab": {
     "referenced_widgets": [
      "f54166e9191c4eb4adec68493f8c238b",
      "1e94e7aea3ca46e2a188804f4f190e24",
      "0404bf84bd534135ba5969f44fc4024c"
     ]
    },
    "id": "mNDPdrgnkWRP",
    "outputId": "0ab133f3-792d-4f2f-82b0-351d05b1954f"
   },
   "outputs": [],
   "source": [
    "# Fill in small objects if the above threshold looks like there are \"holes\" in the leaves\n",
    "a_fill_image = pcv.fill()\n",
    "a_fill_image = pcv.fill_holes()\n",
    "\n",
    "pcv.plot_image(a_fill_image)"
   ]
  },
  {
   "cell_type": "code",
   "execution_count": null,
   "metadata": {
    "colab": {
     "referenced_widgets": [
      "36e52863f5954c97a31852e5df6e5ff6"
     ]
    },
    "id": "0T8Y_OI1kWRP",
    "outputId": "677940ed-85c8-48e2-a666-b2748025a3a5"
   },
   "outputs": [],
   "source": [
    "# Define the region of interest (ROI). This should include your plant, but not you color card or other things.\n",
    "\n",
    "# Inputs:\n",
    "#   img - RGB or grayscale image to plot the ROI on\n",
    "#   x - The x-coordinate of the upper left corner of the rectangle\n",
    "#   y - The y-coordinate of the upper left corner of the rectangle\n",
    "#   h - The height of the rectangle\n",
    "#   w - The width of the rectangle\n",
    "\n",
    "pcv.params.debug = \"plot\"\n",
    "\n",
    "roi1 = pcv.roi.rectangle()"
   ]
  },
  {
   "cell_type": "code",
   "execution_count": null,
   "metadata": {
    "colab": {
     "referenced_widgets": [
      "9c2b7d8edb784719af8cbf731ab47d86"
     ]
    },
    "id": "A6spBzW4kWRP",
    "outputId": "25cd274b-78d4-4be0-d657-e685ae6cf2f8"
   },
   "outputs": [],
   "source": [
    "# Make a new filtered mask that only keeps the plant in your ROI and not objects outside of the ROI\n",
    "# We have set to partial here so that if a leaf extends outside of your ROI it will still be selected. Switch to \"cutto\" if you have other plants that are getting selected on accident\n",
    "\n",
    "# Inputs:\n",
    "#    mask            = the clean mask you made above\n",
    "#    roi            = the region of interest you specified above\n",
    "#    roi_type       = 'partial' (default, for partially inside the ROI), 'cutto', or\n",
    "#                     'largest' (keep only largest contour)\n",
    "\n",
    "kept_mask  = pcv.roi.filter()\n"
   ]
  },
  {
   "cell_type": "markdown",
   "metadata": {},
   "source": [
    "## Analyzing Your Mask"
   ]
  },
  {
   "cell_type": "code",
   "execution_count": null,
   "metadata": {
    "colab": {
     "referenced_widgets": [
      "9410f6e0f4414c9ab42adb82d5064cd8"
     ]
    },
    "id": "9_54d_7-kWRQ",
    "outputId": "306aa0ab-50df-43d0-da2f-7e6139fd7977"
   },
   "outputs": [],
   "source": [
    "############### Analysis ################\n",
    "\n",
    "# Find shape properties, data gets stored to an Outputs class automatically\n",
    "\n",
    "# Inputs:\n",
    "#   img - RGB or grayscale image data\n",
    "#   labeled_mask - the mask of each individual object, set by the create_labels function.\n",
    "#   n_labels - the number of objects, set by the create_labels function.\n",
    "\n",
    "analysis_image = pcv.analyze.size()\n"
   ]
  },
  {
   "cell_type": "code",
   "execution_count": null,
   "metadata": {
    "colab": {
     "referenced_widgets": [
      "b278383d6b4f4c41b625e3c429e4ee2e"
     ]
    },
    "id": "b0v-XUsJkWRQ",
    "outputId": "f1f847ff-e643-4e19-ee5a-f3674d2859ba",
    "scrolled": true
   },
   "outputs": [],
   "source": [
    "# Shape properties relative to user boundary line (optional). This is useful if your plant is hanging below the pot and you want height from the top of the pot.\n",
    "# Set your line_position by finding the x-value at the top of the pot, hover your cursor to get that value\n",
    "\n",
    "# Inputs:\n",
    "#   img - RGB or grayscale image data\n",
    "#   obj - Single or grouped contour object\n",
    "#   mask - Binary mask of selected contours\n",
    "#   line_position - Position of boundary line (a value of 0 would draw a line\n",
    "#                   through the bottom of the image)\n",
    "#   label - Optional label parameter, modifies the variable name of observations recorded. (default `label=\"default\"`)filled_img = pcv.morphology.fill_segments(mask=cropped_mask, objects=edge_objects)\n",
    "\n",
    "boundary_image = pcv.analyze.bound_horizontal(img=img_cc,labeled_mask=kept_mask, line_position=2380, label=\"default\")\n"
   ]
  },
  {
   "cell_type": "code",
   "execution_count": null,
   "metadata": {
    "id": "5AZ7znLYkWRQ",
    "outputId": "6f9250f2-10de-44d8-f1f3-f97565fa7a82"
   },
   "outputs": [],
   "source": [
    "# Determine color properties: Histograms, Color Slices and Pseudocolored Images, output color analyzed images (optional)\n",
    "\n",
    "# Inputs:\n",
    "#   rgb_img - RGB image data\n",
    "#   mask - Binary mask of selected contours\n",
    "#   colorspaces - 'all' (default), 'rgb', 'lab', or 'hsv'\n",
    "#                 This is the data to be printed to the SVG histogram file\n",
    "#   label - Optional label parameter, modifies the variable name of observations recorded. (default `label=\"default\"`)\n",
    "\n",
    "color_histogram = pcv.analyze.color()\n"
   ]
  },
  {
   "cell_type": "code",
   "execution_count": null,
   "metadata": {
    "id": "0n_GSTzbkWRQ",
    "scrolled": true
   },
   "outputs": [],
   "source": [
    "# The save results function will take the measurements stored when running any PlantCV analysis functions, format,\n",
    "# and print an output text file for data analysis. The Outputs class stores data whenever any of the following functions\n",
    "# are ran: analyze_bound_horizontal, analyze_bound_vertical, analyze_color, analyze_nir_intensity, analyze_object,\n",
    "# fluor_fvfm, report_size_marker_area, watershed. If no functions have been run, it will print an empty text file\n",
    "\n",
    "#This saves results for one image, and each image is saved individually if you run another image (it will overwrite the last one)\n",
    "pcv.outputs.save_results()\n"
   ]
  },
  {
   "cell_type": "markdown",
   "metadata": {
    "id": "_zP1k4EqkWRQ"
   },
   "source": [
    "## Congrats, you now know all the settings you like for this day of imaging! It's time to make this into a workflow so that it will analyze all your images at once and you can go relax."
   ]
  }
 ],
 "metadata": {
  "colab": {
   "provenance": []
  },
  "kernelspec": {
   "display_name": "Python (PlantCV 4.0)",
   "language": "python",
   "name": "plantcv"
  },
  "language_info": {
   "codemirror_mode": {
    "name": "ipython",
    "version": 3
   },
   "file_extension": ".py",
   "mimetype": "text/x-python",
   "name": "python",
   "nbconvert_exporter": "python",
   "pygments_lexer": "ipython3",
   "version": "3.12.2"
  }
 },
 "nbformat": 4,
 "nbformat_minor": 4
}
