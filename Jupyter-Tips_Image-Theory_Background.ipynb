{
 "cells": [
  {
   "cell_type": "markdown",
   "id": "8bdd0b6d-2782-4acc-9fa7-efafadf2620b",
   "metadata": {
    "id": "8bdd0b6d-2782-4acc-9fa7-efafadf2620b",
    "tags": []
   },
   "source": [
    "<h1 style=\"font-size:4rem;color:orange;\">PlantCV Training Prework </h1>"
   ]
  },
  {
   "cell_type": "markdown",
   "id": "sharp-biography",
   "metadata": {
    "id": "sharp-biography"
   },
   "source": [
    "# How to use Jupyter Notebooks\n"
   ]
  },
  {
   "cell_type": "markdown",
   "id": "hairy-effort",
   "metadata": {
    "id": "hairy-effort"
   },
   "source": [
    "*Follow the directions in the activity below to become familiar with Jupyter notebooks (.ipynb).*\n",
    "\n",
    "Jupyter Notebooks are an open-source web application that allows the user to create and share interactive documents that contain live code, equations, visualizations, and narrative text. The key components of the notebook are **cells** and the **kernel**:\n",
    "* Kernel: The \"computational engine\" that executes the code in the cell. You will find the kernel in upper right-hand corner of the notebook, like the image below:\n",
    "\n",
    "<p style=\"text-align:center;\"><a href=\"https://imgbb.com/\"><img src=\"https://i.ibb.co/rmCpVgJ/Kernel.png\"  width = '200' ></a><br />\n",
    "    \n",
    "* Cells: Interactive units within the notebook that can contain code, text, and/or images. Notebooks are exceptionally useful when debugging your workflows as the developer is able to script in *cells* as opposed to *coding from the terminal*.\n",
    "  \n",
    "* Keyboard Shortcuts: Jupyter Notebook contains several keyboard shortcuts that increases usability. Please take some time to review some of these shortcuts but navigating to the **Help** drop-down menu on the toolbar above and selecting *Keyboard Shortcuts*, you can also use the shortcut: CTRL+SHIFT+H."
   ]
  },
  {
   "cell_type": "markdown",
   "id": "ec731e62-bfaf-47e6-898f-d5a649445058",
   "metadata": {
    "id": "ec731e62-bfaf-47e6-898f-d5a649445058"
   },
   "source": [
    "# Jupyter Notebook Cell Types\n",
    "*Cells can be modified into three different types: **Code**, **Markdown**, and **Raw** cell types.*\n",
    "\n",
    "## **Code** cells\n",
    "Code cells enable the user to write and execute code within the notebook using the loaded *kernel*. Code cells are the default cell type in Jupyter Notebook.\n",
    "\n",
    "In the cells below, we have kept the cell type as **Code**. To execute the code chunk found in a code-type cell, You can run the cell using the \"Play\" button or by pressing SHIFT + ENTER together.\n"
   ]
  },
  {
   "cell_type": "code",
   "execution_count": null,
   "id": "03fc8489-dea0-46cd-8fc2-29b693f821d5",
   "metadata": {
    "id": "f1d846f5-1386-4dc3-a964-61d5f0cdb658"
   },
   "outputs": [],
   "source": [
    "print('Hello World')"
   ]
  },
  {
   "cell_type": "code",
   "execution_count": 2,
   "id": "94ebc60c-64ff-4073-bbc7-68b2fdc16827",
   "metadata": {
    "id": "94ebc60c-64ff-4073-bbc7-68b2fdc16827"
   },
   "outputs": [
    {
     "name": "stdout",
     "output_type": "stream",
     "text": [
      "1026\n"
     ]
    }
   ],
   "source": [
    "answer = 19 * 6 * (3**2)\n",
    "print(answer)"
   ]
  },
  {
   "cell_type": "markdown",
   "id": "8b923064-67c0-4589-b719-4e4e38d3e8c1",
   "metadata": {
    "id": "8b923064-67c0-4589-b719-4e4e38d3e8c1"
   },
   "source": [
    "## **Markdown** cells\n",
    "Markdown cells allow you to write and format text using Markdown language. Formatting text using Markdown is effective when creating documentation for your code and explaining the logic behind the coding structure.\n",
    "\n",
    "The cell below have had their cell type changed to **Markdown**. In the cell below, type a paragraph explaining the work you do. *Don't worry, no one is going to see this.*"
   ]
  },
  {
   "cell_type": "markdown",
   "id": "a480f024-ac0c-41eb-adbc-6bf1dbad96e4",
   "metadata": {
    "id": "a480f024-ac0c-41eb-adbc-6bf1dbad96e4"
   },
   "source": []
  },
  {
   "cell_type": "markdown",
   "id": "ce3402bf-79a6-416c-b56f-8632c5446416",
   "metadata": {
    "id": "ce3402bf-79a6-416c-b56f-8632c5446416"
   },
   "source": [
    "In the next cell, we are going to explore some text formatting options to enhance our documentation. Try these out in the *Markdown* cells below. Double-click on this cell to view the markdown options.\n",
    "* Headers: You can create headers for your document by inserting the hash-tag/octothorpe (#) before your text.\n",
    "* Formatting text: If you want to create emphasis with your text, you can add asterisks (*) around your text. Depending on the (number of asterisks) used, you can format your text to be (1) *italicized*, (2) **bolded**, or (3) ***both***.\n",
    "* Images: You can insert images into your documentation using HTML or Markdown."
   ]
  },
  {
   "cell_type": "markdown",
   "id": "9f98d22f-f01b-44c3-89b4-9e9a91aff47d",
   "metadata": {
    "id": "9f98d22f-f01b-44c3-89b4-9e9a91aff47d"
   },
   "source": []
  },
  {
   "cell_type": "markdown",
   "id": "5f5bcb54-c34c-4ea8-908e-12befd096cd8",
   "metadata": {
    "id": "5f5bcb54-c34c-4ea8-908e-12befd096cd8"
   },
   "source": []
  },
  {
   "cell_type": "markdown",
   "id": "e771452a-a757-4fd5-b916-1f936b51e5cc",
   "metadata": {
    "id": "e771452a-a757-4fd5-b916-1f936b51e5cc"
   },
   "source": []
  },
  {
   "cell_type": "markdown",
   "id": "bee9cb6b-90c3-4f00-92a8-3e8407c85b92",
   "metadata": {
    "id": "bee9cb6b-90c3-4f00-92a8-3e8407c85b92"
   },
   "source": [
    "* **Raw** cells allow the user to write output directly into the notebook without any modifications. These cell types are not rendered by the notebook interface, but are useful when storing data that you don't want to display in the notebook."
   ]
  },
  {
   "cell_type": "raw",
   "id": "ef2f29da-affe-4b28-bef6-57cc58b491d5",
   "metadata": {},
   "source": []
  },
  {
   "cell_type": "markdown",
   "id": "stupid-browser",
   "metadata": {
    "id": "stupid-browser",
    "tags": []
   },
   "source": [
    "<h1 style=\"font-size:3rem;color:orange;\">What Does an Image Look Like in Python? </h1>"
   ]
  },
  {
   "cell_type": "markdown",
   "id": "empirical-combat",
   "metadata": {
    "id": "empirical-combat"
   },
   "source": [
    "Together with your partner, advance through this self-guided activity to learn more about how Python and PlantCV convert images into data."
   ]
  },
  {
   "cell_type": "markdown",
   "id": "conservative-reply",
   "metadata": {
    "id": "conservative-reply",
    "tags": []
   },
   "source": [
    "# What makes up images?\n",
    "Digital images are made up of a mosaic of really small squares called ***pixels***. You can think of them similar to how ancient art was made using mosaic tiles like the image below:\n",
    "<p style=\"text-align:center;\"><img src=\"https://www.worldhistory.org/uploads/images/12743.jpg?v=1661607482\" width=\"400\" height=\"500\" />\n"
   ]
  },
  {
   "cell_type": "markdown",
   "id": "alert-airport",
   "metadata": {
    "id": "alert-airport"
   },
   "source": [
    "The arrangement of these tiles are fashioned in a way that it give the appearance of smooth lines that our eyes can follow. If the square tiles, or ***pixels***, are too large, then it is much hard to make smooth edges and curves like 8-bit Mario.\n",
    "![Mario Timeline](https://yumyummatt.files.wordpress.com/2011/02/super-mario-timeline1.jpg)"
   ]
  },
  {
   "cell_type": "markdown",
   "id": "elect-roman",
   "metadata": {
    "id": "elect-roman"
   },
   "source": [
    "\"These small little dots [*pixels*] are what make up the images on computer displays, whether they are flat-screen (LCD) or tube (CRT) monitors. The screen is divided up into a matrix of thousands or even millions of pixels.Typically, you cannot see the individual pixels, because they are so small. This is a good thing, because most people prefer to look at smooth, clear images rather than blocky, \"pixelated\" ones.\n",
    "\n",
    "However, if you set your monitor to a low resolution, such as 640x480 and look closely at your screen, you will may be able to see the individual pixels.\n",
    "As you may have guessed, a resolution of 640x480 is comprised of a matrix of 640 by 480 pixels, or 307,200 in all. That's a lot of little dots.\"\n",
    "\n",
    "<p style=\"text-align:center;\"><img src=\"https://upload.wikimedia.org/wikipedia/commons/f/f2/Resolution_illustration.png\" />"
   ]
  },
  {
   "cell_type": "markdown",
   "id": "accredited-backing",
   "metadata": {
    "id": "accredited-backing",
    "tags": []
   },
   "source": [
    "# Images and Matrices\n",
    "There are many ways we can store pixels, or the **picture elements**, of digital images. Take a look at the image of Felix the Cat below. We can represent this image with a 35 x 35 matrix using binary unites, or ***bits***. These numbers will tell us the color of each pixel in the image, where 0 represents black and 1 indicates white.\n",
    "<p style=\"text-align:center;\"><img src= \"http://www.cdme.im-uff.mat.br/matrix/matrix-html/matrix_boolean/sample-matrix.gif\" />\n",
    "\n",
    "So we see that these units exist within a pixel coordinate system that resembles a grid or matrix with **rows** and **columns** that each hold pixel values that represent a color on the digital image, with the origin in the top left corner and the coordinate values increase going down and right.\n",
    "<p style=\"text-align:center;\"><img src=\"https://iq.opengenus.org/content/images/2020/04/index.png\" />"
   ]
  },
  {
   "cell_type": "markdown",
   "id": "attended-alliance",
   "metadata": {
    "id": "attended-alliance"
   },
   "source": [
    "Furthermore, there are 8-bits in a ***byte***, which is the fundamental unit of storage on computer. Since each *bit* contains one of two values and 8 bits make a byte, we find that there are 256 possible permutations of binary code that can represent each *pixel*. Binary images like the one above are just one way we can store pixel values. Each element in the matrix determines the intensity of the corresponding pixel.\n",
    "\n",
    "However, when we look at grayscale images we see that the colors are not binary but instead exist within a gradient. With 256 possible bytes available, we see that the values in each coordinate become more discrete. We see that 0 still represents black (lowest intensity), but now white is represented by 255 (maximum intensity).\n",
    "\n",
    "In Python, we can use image analyses packages to store our images as arrays using the NumPy package. Using NumPy we can determine the shape and size of the image, where the dimensions are ordered y (rows), x (columns, and z (channels) for images."
   ]
  },
  {
   "cell_type": "markdown",
   "id": "statewide-casino",
   "metadata": {
    "id": "statewide-casino"
   },
   "source": [
    "# Color (RGB) Images"
   ]
  },
  {
   "cell_type": "code",
   "execution_count": 5,
   "id": "placed-integration",
   "metadata": {
    "id": "placed-integration"
   },
   "outputs": [
    {
     "data": {
      "image/jpeg": "[encoded data removed]",
      "text/html": [
       "\n",
       "        <iframe\n",
       "            width=\"600\"\n",
       "            height=\"300\"\n",
       "            src=\"https://www.youtube.com/embed/l8_fZPHasdo\"\n",
       "            frameborder=\"0\"\n",
       "            allowfullscreen\n",
       "            \n",
       "        ></iframe>\n",
       "        "
      ],
      "text/plain": [
       "<IPython.lib.display.YouTubeVideo at 0x169c78a78f0>"
      ]
     },
     "execution_count": 5,
     "metadata": {},
     "output_type": "execute_result"
    }
   ],
   "source": [
    "from IPython.display import Audio, Video, YouTubeVideo\n",
    "id='l8_fZPHasdo'\n",
    "YouTubeVideo(id=id, width=\"600\", height=\"300\")"
   ]
  },
  {
   "cell_type": "markdown",
   "id": "greatest-combine",
   "metadata": {
    "id": "greatest-combine"
   },
   "source": [
    "* **To submit code for execution, click on the cell to make it active, then hold SHIFT and press Enter**"
   ]
  },
  {
   "cell_type": "markdown",
   "id": "animated-turner",
   "metadata": {
    "id": "animated-turner"
   },
   "source": [
    "This is a color image encoded using a Red Green Blue (RGB) color model.\n",
    "Note: that in OpenCV the color order is BGR.\n",
    "\n",
    "<img src=\"https://i.ibb.co/MCsb6HG/buuZr.png\" alt=\"buuZr\" border=\"0\">\n",
    "\n",
    "The color channels are stacked in a third dimension and increase from the 'front' to the 'back'\n",
    "\n",
    "How is color broadcasted?\n",
    "* It can be emitted from a black background (computer monitor).\n",
    "\n",
    "* It can be reflected when deposited from a color ink jet onto white paper."
   ]
  },
  {
   "cell_type": "markdown",
   "id": "stone-louisville",
   "metadata": {
    "id": "stone-louisville"
   },
   "source": [
    "# What is a color space?\n",
    "Color information can be represented using different models, or [color spaces](https://en.wikipedia.org/wiki/Color_space). The *color space* describes the type of information used to produce representations of a color."
   ]
  },
  {
   "cell_type": "code",
   "execution_count": null,
   "id": "julian-entry",
   "metadata": {
    "id": "julian-entry"
   },
   "outputs": [],
   "source": [
    "#What is the color of the grass outside? Print your answer.\n"
   ]
  },
  {
   "cell_type": "markdown",
   "id": "related-istanbul",
   "metadata": {
    "id": "related-istanbul"
   },
   "source": [
    "Think about your response, what kind of information can you gather from that?\n",
    "* Hue of the color (Green)\n",
    "* Saturation of the color (how light or dark is the grass?)"
   ]
  },
  {
   "cell_type": "markdown",
   "id": "emotional-telling",
   "metadata": {
    "id": "emotional-telling"
   },
   "source": [
    "The color we visualize is a combination of multiple colors but depending on the color space they could be a combination of Red/Green/Blue (RGB) or L* a* b* (CIELAB)\n",
    "\n",
    "Let's take a look at TV and computer monitors. If you look very closely at your computer monitor (I DO NOT RECOMMEND DOING THIS), you may be able to see small patterns of circles that are combinations of little red, green, and blue lights. The intensity of these lights facilitate the display of the images on our monitor. How these colors mix together defines how \"crisp\" of a color and image we see.\n",
    "\n",
    "Typical color images use an additive [RGB color model](https://en.wikipedia.org/wiki/RGB_color_model):\n",
    "<p style=\"text-align:center;\"><img src=\"https://cdn.britannica.com/89/234589-050-0E6E9D4B/color-wheel-additive.jpg\" width=\"400\" height=\"400\" />\n",
    "<img src=\"https://upload.wikimedia.org/wikipedia/commons/thumb/4/4d/Pixel_geometry_01_Pengo.jpg/480px-Pixel_geometry_01_Pengo.jpg\" width=\"500\" height=\"400\" />"
   ]
  },
  {
   "cell_type": "markdown",
   "id": "enhanced-alloy",
   "metadata": {
    "id": "enhanced-alloy"
   },
   "source": [
    "Next, we will consider the [CIELAB colorspace](https://en.wikipedia.org/wiki/CIELAB_color_space). Also referred to as the L* a* b* colorspace, this colorspace represents colors as ac ombination of lightness, A, and B components. Lightness represents the perceived brightness of the color, where A and B represent the green-red/magenta and blue-yellow color components, respectively. This colorspace is designed to approximate human vision better than the other colorspaces.\n",
    "\n",
    "<p style=\"text-align:center;\"><img src=\"https://cms-assets.tutsplus.com/cdn-cgi/image/width=1700/uploads/users/346/posts/25468/image/ColorLab_D60Secfinal.jpg\" />\n",
    "<p style=\"text-align:center;\"><img src=\"https://rkcolor.com/wp-content/uploads/2023/03/CIELAB-Color-spce-3D.jpg\" />"
   ]
  },
  {
   "cell_type": "code",
   "execution_count": 1,
   "id": "17d16878-a932-4a8c-b342-7f191dac0fd1",
   "metadata": {
    "id": "17d16878-a932-4a8c-b342-7f191dac0fd1"
   },
   "outputs": [],
   "source": [
    "#Matplotlib enables us to plot within the notebook, matplotlib is very powerful plotting library\n",
    "%matplotlib widget\n",
    "#Imports NumPy package into notebook, essential for scientific computing\n",
    "import numpy as np\n",
    "#Imports PlantCV into notebook so that we can conduct plant phenotyping analyses\n",
    "from plantcv import plantcv as pcv\n",
    "#Imports PyPlot which will provides us a MATLAB-like interface\n",
    "from matplotlib import pyplot as plt"
   ]
  },
  {
   "cell_type": "markdown",
   "id": "69d18ed0-3ec2-40d0-8db6-baaada728d4b",
   "metadata": {
    "id": "69d18ed0-3ec2-40d0-8db6-baaada728d4b"
   },
   "source": [
    "## For more information on the class Params, check out\n",
    "https://plantcv.readthedocs.io/en/4.x/params/"
   ]
  },
  {
   "cell_type": "code",
   "execution_count": 2,
   "id": "de0406ac-2a03-4308-8e91-69c4ccf20611",
   "metadata": {
    "id": "de0406ac-2a03-4308-8e91-69c4ccf20611"
   },
   "outputs": [],
   "source": [
    "#Now we set up our parameters for our PlantCV environment (these are not as important)\n",
    "pcv.params.debug = \"plot\"\n",
    "pcv.params.text_size=10\n",
    "pcv.params.text_thickness=5"
   ]
  },
  {
   "cell_type": "code",
   "execution_count": 3,
   "id": "e594acfa-1f08-4f34-91a3-fe0f50ca36ab",
   "metadata": {
    "id": "e594acfa-1f08-4f34-91a3-fe0f50ca36ab"
   },
   "outputs": [
    {
     "data": {
      "application/vnd.jupyter.widget-view+json": {
       "model_id": "69725c100ce04d3d941afd047e66f2bb",
       "version_major": 2,
       "version_minor": 0
      },
      "image/png": "[encoded data removed]",
      "text/html": [
       "\n",
       "            <div style=\"display: inline-block;\">\n",
       "                <div class=\"jupyter-widgets widget-label\" style=\"text-align: center;\">\n",
       "                    Figure\n",
       "                </div>\n",
       "                <img src='data:image/png;base64,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' width=640.0/>\n",
       "            </div>\n",
       "        "
      ],
      "text/plain": [
       "Canvas(toolbar=Toolbar(toolitems=[('Home', 'Reset original view', 'home', 'home'), ('Back', 'Back to previous …"
      ]
     },
     "metadata": {},
     "output_type": "display_data"
    }
   ],
   "source": [
    "#Let's create a plot space that is filled with pixel values of zero (true black)\n",
    "my_rgb_img = np.zeros((250,250,3), dtype=np.uint8)\n",
    "pcv.plot_image(my_rgb_img)"
   ]
  },
  {
   "cell_type": "markdown",
   "id": "92b33161-1ef5-4ab4-b2a9-28a2ab26c59b",
   "metadata": {
    "id": "92b33161-1ef5-4ab4-b2a9-28a2ab26c59b"
   },
   "source": [
    "## You should see a black box that contains 250 rows and columns, filled with pixel values of [0,0,0]"
   ]
  },
  {
   "cell_type": "code",
   "execution_count": 8,
   "id": "61f4944d-1f0f-47d8-bba0-ccb098fe933f",
   "metadata": {
    "id": "61f4944d-1f0f-47d8-bba0-ccb098fe933f"
   },
   "outputs": [
    {
     "data": {
      "application/vnd.jupyter.widget-view+json": {
       "model_id": "2956dfbb8111452092da3fac44d1fac7",
       "version_major": 2,
       "version_minor": 0
      },
      "image/png": "[encoded data removed]",
      "text/html": [
       "\n",
       "            <div style=\"display: inline-block;\">\n",
       "                <div class=\"jupyter-widgets widget-label\" style=\"text-align: center;\">\n",
       "                    Figure\n",
       "                </div>\n",
       "                <img src='data:image/png;base64,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' width=640.0/>\n",
       "            </div>\n",
       "        "
      ],
      "text/plain": [
       "Canvas(toolbar=Toolbar(toolitems=[('Home', 'Reset original view', 'home', 'home'), ('Back', 'Back to previous …"
      ]
     },
     "metadata": {},
     "output_type": "display_data"
    }
   ],
   "source": [
    "#Now let's make a color image:\n",
    "#We can give values to each color channel by defining the pixel in each RGB channel individually\n",
    "#[:,:,0] -> Indexes the Blue channel\n",
    "#[:,:,1] -> Indexes the Green channel\n",
    "#[:,:,2] -> Indexes the Red channel\n",
    "\n",
    "#Run the cell below to see how we can \"turn on\" certain pixels by indexing our NumPy array.\n",
    "#We set the values of the subsetted data to their maximum value (255)\n",
    "my_rgb_img[:150,:150,0] = 255\n",
    "my_rgb_img[50:200,50:200,1] = 160\n",
    "my_rgb_img[100:250,100:250,2] = 255\n",
    "pcv.plot_image(my_rgb_img)"
   ]
  },
  {
   "cell_type": "markdown",
   "id": "0fbc3574-2c37-4373-b32a-3f295e9d59ce",
   "metadata": {
    "id": "0fbc3574-2c37-4373-b32a-3f295e9d59ce"
   },
   "source": [
    "Notice how only a few of our pixels are \"turned on\" fully. By influencing the individual channels (the 3rd element in the tuple) and assigning those channels to pixel intensities between 0 and 255, we are able to alter the values of pixels discretely. Observe how in the region where all three channels are set to the max value (255) the color is white\n",
    "\n",
    "Tinker with some of these values and see if you can create a mosaic of colors where different colors are represented within my_rgb_img. You can add more colors by defining which columns and rows you would like to change colors of.\n",
    "\n",
    "# Congratulations for reaching the end!"
   ]
  }
 ],
 "metadata": {
  "colab": {
   "provenance": []
  },
  "kernelspec": {
   "display_name": "Python (PlantCV)",
   "language": "python",
   "name": "plantcv"
  },
  "language_info": {
   "codemirror_mode": {
    "name": "ipython",
    "version": 3
   },
   "file_extension": ".py",
   "mimetype": "text/x-python",
   "name": "python",
   "nbconvert_exporter": "python",
   "pygments_lexer": "ipython3",
   "version": "3.12.3"
  }
 },
 "nbformat": 4,
 "nbformat_minor": 5
}
