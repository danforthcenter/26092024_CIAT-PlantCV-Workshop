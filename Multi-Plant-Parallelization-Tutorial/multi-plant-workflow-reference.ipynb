{
 "cells": [
  {
   "cell_type": "code",
   "execution_count": null,
   "metadata": {},
   "outputs": [],
   "source": [
    "%matplotlib widget\n",
    "import os\n",
    "from plantcv import plantcv as pcv\n",
    "from plantcv.parallel import WorkflowInputs"
   ]
  },
  {
   "cell_type": "code",
   "execution_count": null,
   "metadata": {},
   "outputs": [],
   "source": [
    "args = WorkflowInputs(images=[\"./imgs/10.9.1.29_pos-153-001-003_2019-10-26-19-05.jpg\"],\n",
    "                      names=\"image1\",\n",
    "                      result=\"data_output.json\",\n",
    "                      outdir=\"img_output\",\n",
    "                      writeimg=False,\n",
    "                      debug=\"plot\")"
   ]
  },
  {
   "cell_type": "code",
   "execution_count": null,
   "metadata": {},
   "outputs": [],
   "source": [
    "pcv.params.debug_outdir = args.outdir\n",
    "pcv.params.debug = args.debug\n",
    "pcv.params.text_size=50\n",
    "pcv.params.text_thickness=15"
   ]
  },
  {
   "cell_type": "code",
   "execution_count": null,
   "metadata": {},
   "outputs": [],
   "source": [
    "img, path, filename = pcv.readimage(filename=args.image1)\n"
   ]
  },
  {
   "cell_type": "code",
   "execution_count": null,
   "metadata": {},
   "outputs": [],
   "source": [
    "#### Create a mask and begin to clean it ####\n",
    "# Change color space for plant extraction\n",
    "gray_img = pcv.rgb2gray_lab(rgb_img=img, channel=\"a\")\n"
   ]
  },
  {
   "cell_type": "code",
   "execution_count": null,
   "metadata": {},
   "outputs": [],
   "source": [
    "# Threshold\n",
    "bin_img = pcv.threshold.binary(gray_img=gray_img, threshold=120, object_type='dark')\n"
   ]
  },
  {
   "cell_type": "code",
   "execution_count": null,
   "metadata": {},
   "outputs": [],
   "source": [
    "# Fill in small objects \n",
    "flt_mask = pcv.fill(bin_img=bin_img, size=50)\n"
   ]
  },
  {
   "cell_type": "code",
   "execution_count": null,
   "metadata": {},
   "outputs": [],
   "source": [
    "# Dilate \n",
    "clean_mask = pcv.dilate(gray_img=flt_mask, ksize=2, i=1)"
   ]
  },
  {
   "cell_type": "code",
   "execution_count": null,
   "metadata": {},
   "outputs": [],
   "source": [
    "tray_roi = pcv.roi.rectangle(img=img, x=950, y=0, h=2464, w=2100)"
   ]
  },
  {
   "cell_type": "code",
   "execution_count": null,
   "metadata": {},
   "outputs": [],
   "source": [
    "tray_mask = pcv.roi.filter(mask=clean_mask, roi=tray_roi)"
   ]
  },
  {
   "cell_type": "code",
   "execution_count": null,
   "metadata": {},
   "outputs": [],
   "source": [
    "# Create a grid of ROIs \n",
    "rois = pcv.roi.auto_grid(mask=tray_mask, nrows=6, ncols=4)"
   ]
  },
  {
   "cell_type": "code",
   "execution_count": null,
   "metadata": {},
   "outputs": [],
   "source": [
    "labeled_mask, n_labels = pcv.create_labels(mask=tray_mask, rois=rois)"
   ]
  },
  {
   "cell_type": "code",
   "execution_count": null,
   "metadata": {},
   "outputs": [],
   "source": [
    "shape_img = pcv.analyze.size(img=img, labeled_mask=labeled_mask, n_labels=n_labels, label=\"plant\")"
   ]
  },
  {
   "cell_type": "code",
   "execution_count": null,
   "metadata": {},
   "outputs": [],
   "source": [
    "if args.writeimg:\n",
    "    pcv.print_image(shape_img, os.path.join(args.outdir, f\"{filename}_shapes.jpg\"))\n"
   ]
  },
  {
   "cell_type": "code",
   "execution_count": null,
   "metadata": {},
   "outputs": [],
   "source": [
    "pcv.outputs.save_results(filename=args.result)"
   ]
  },
  {
   "cell_type": "code",
   "execution_count": null,
   "metadata": {},
   "outputs": [],
   "source": []
  },
  {
   "cell_type": "code",
   "execution_count": null,
   "metadata": {},
   "outputs": [],
   "source": []
  }
 ],
 "metadata": {
  "kernelspec": {
   "display_name": "Python (PlantCV)",
   "language": "python",
   "name": "plantcv"
  },
  "language_info": {
   "codemirror_mode": {
    "name": "ipython",
    "version": 3
   },
   "file_extension": ".py",
   "mimetype": "text/x-python",
   "name": "python",
   "nbconvert_exporter": "python",
   "pygments_lexer": "ipython3",
   "version": "3.12.3"
  }
 },
 "nbformat": 4,
 "nbformat_minor": 4
}
