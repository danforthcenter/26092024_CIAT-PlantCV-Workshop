{
 "cells": [
  {
   "cell_type": "code",
   "execution_count": null,
   "metadata": {},
   "outputs": [],
   "source": [
    "%matplotlib widget\n",
    "import os\n",
    "from plantcv import plantcv as pcv\n",
    "from plantcv.parallel import WorkflowInputs"
   ]
  },
  {
   "cell_type": "code",
   "execution_count": null,
   "metadata": {},
   "outputs": [],
   "source": [
    "args = WorkflowInputs(images=[\"\"],\n",
    "                      names=\"\",\n",
    "                      result=\"\",\n",
    "                      outdir=\"\",\n",
    "                      writeimg=False,\n",
    "                      debug=\"plot\")"
   ]
  },
  {
   "cell_type": "code",
   "execution_count": null,
   "metadata": {},
   "outputs": [],
   "source": [
    "pcv.params.debug_outdir = args.outdir\n",
    "pcv.params.debug = args.debug\n",
    "pcv.params.text_size=50\n",
    "pcv.params.text_thickness=15"
   ]
  },
  {
   "cell_type": "code",
   "execution_count": null,
   "metadata": {},
   "outputs": [],
   "source": [
    "img, path, filename = pcv.readimage(filename=)\n"
   ]
  },
  {
   "cell_type": "code",
   "execution_count": null,
   "metadata": {},
   "outputs": [],
   "source": [
    "#### Create a mask and begin to clean it ####\n",
    "# Change color space for plant extraction\n",
    "gray_img = pcv.rgb2gray_lab(rgb_img= ,\n",
    "                            channel=\"\")\n"
   ]
  },
  {
   "cell_type": "code",
   "execution_count": null,
   "metadata": {},
   "outputs": [],
   "source": [
    "# Threshold\n",
    "bin_img = pcv.threshold.binary(gray_img=,\n",
    "                               threshold=,\n",
    "                               object_type='')\n"
   ]
  },
  {
   "cell_type": "code",
   "execution_count": null,
   "metadata": {},
   "outputs": [],
   "source": [
    "# Fill in small objects \n",
    "flt_mask = pcv.fill(bin_img=, \n",
    "                    size=)\n"
   ]
  },
  {
   "cell_type": "code",
   "execution_count": null,
   "metadata": {},
   "outputs": [],
   "source": [
    "# Dilate \n",
    "clean_mask = pcv.dilate(gray_img=,\n",
    "                        ksize=,\n",
    "                        i=)"
   ]
  },
  {
   "cell_type": "code",
   "execution_count": null,
   "metadata": {},
   "outputs": [],
   "source": [
    "tray_roi = pcv.roi.rectangle(img=,\n",
    "                             x=,\n",
    "                             y=,\n",
    "                             h=,\n",
    "                             w=)"
   ]
  },
  {
   "cell_type": "code",
   "execution_count": null,
   "metadata": {},
   "outputs": [],
   "source": [
    "tray_mask = pcv.roi.filter(mask=,\n",
    "                           roi=)"
   ]
  },
  {
   "cell_type": "code",
   "execution_count": null,
   "metadata": {},
   "outputs": [],
   "source": [
    "# Create a grid of ROIs \n",
    "rois = pcv.roi.auto_grid(mask=,\n",
    "                         nrows=, \n",
    "                         ncols=)"
   ]
  },
  {
   "cell_type": "code",
   "execution_count": null,
   "metadata": {},
   "outputs": [],
   "source": [
    "labeled_mask, n_labels = pcv.create_labels(mask=,\n",
    "                                           rois=)"
   ]
  },
  {
   "cell_type": "code",
   "execution_count": null,
   "metadata": {},
   "outputs": [],
   "source": [
    "shape_img = pcv.analyze.size(img=,\n",
    "                             labeled_mask=,\n",
    "                             n_labels=,\n",
    "                             label=\"\")"
   ]
  },
  {
   "cell_type": "code",
   "execution_count": null,
   "metadata": {},
   "outputs": [],
   "source": [
    "if args.writeimg:\n",
    "    pcv.print_image(shape_img, os.path.join(args.outdir, f\"{filename}_shapes.jpg\"))\n"
   ]
  },
  {
   "cell_type": "code",
   "execution_count": null,
   "metadata": {},
   "outputs": [],
   "source": [
    "pcv.outputs.save_results(filename=)"
   ]
  },
  {
   "cell_type": "code",
   "execution_count": null,
   "metadata": {},
   "outputs": [],
   "source": []
  }
 ],
 "metadata": {
  "kernelspec": {
   "display_name": "Python (PlantCV)",
   "language": "python",
   "name": "plantcv"
  },
  "language_info": {
   "codemirror_mode": {
    "name": "ipython",
    "version": 3
   },
   "file_extension": ".py",
   "mimetype": "text/x-python",
   "name": "python",
   "nbconvert_exporter": "python",
   "pygments_lexer": "ipython3",
   "version": "3.12.3"
  }
 },
 "nbformat": 4,
 "nbformat_minor": 4
}
